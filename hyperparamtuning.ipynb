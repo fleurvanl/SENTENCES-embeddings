{
 "cells": [
  {
   "cell_type": "code",
   "execution_count": null,
   "metadata": {},
   "outputs": [
    {
     "name": "stdout",
     "output_type": "stream",
     "text": [
      "/home/avanluenen/dutchembeddings\n",
      "os should be: /home/avanluenen/twec, is /home/avanluenen/twec\n",
      "os should be: /home/avanluenen/dutchembeddings, os is /home/avanluenen/dutchembeddings\n",
      "os should be: /home/avanluenen/twec, is /home/avanluenen/twec\n",
      "os should be: /home/avanluenen/twec, is /home/avanluenen/twec\n",
      "Training embeddings 50 5 5\n",
      "Compass loaded from file.\n",
      "os should be: /home/avanluenen/dutchembeddings, os is /home/avanluenen/dutchembeddings\n"
     ]
    }
   ],
   "source": [
    "###this file should be in the twec folder, which shares the root folder with the dutch embeddings folder###\n",
    "\n",
    "import os\n",
    "print(os.getcwd())#should be in home/avanluenen/twec\n",
    "os.chdir(\"/home/avanluenen/twec\")\n",
    "print(\"os should be: /home/avanluenen/twec, is\", os.getcwd())\n",
    "\n",
    "from twec.twec import TWEC\n",
    "from gensim.models.word2vec import Word2Vec\n",
    "\n",
    "os.chdir(\"/home/avanluenen/dutchembeddings\")\n",
    "print(\"os should be: /home/avanluenen/dutchembeddings, os is\", os.getcwd())\n",
    "from relation import Relation\n",
    "\n",
    "def train_compass(data, filename, size, siter, diter):\n",
    "    print(\"Training embeddings\", size, siter, diter)\n",
    "    aligner = TWEC(size=size, siter=siter, diter=diter, workers=4, opath=\"model/hyperparam\", file_name=filename)\n",
    "    aligner.train_compass(data, overwrite=False)\n",
    "\n",
    "def test_embeddings(filename):\n",
    "    data = \"/home/avanluenen/twec/model/hyperparam/\" + filename\n",
    "    model = Word2Vec.load(data)\n",
    "    rel = Relation(\"data/question-words.txt\")\n",
    "    results = rel.test_model(model)\n",
    "    totalcorrect = 0\n",
    "    totalincorrect = 0\n",
    "    for section in results:\n",
    "        correct = len(section['correct'])\n",
    "        totalcorrect += correct\n",
    "        incorrect = len(section['incorrect'])\n",
    "        totalincorrect += incorrect\n",
    "    with open('model/hyperparam/logfile.txt', 'a') as logfile:\n",
    "        logfile.write(filename, '\\n', totalcorrect, totalincorrect, 'accuracy:', \\\n",
    "                      totalcorrect/(totalcorrect + totalincorrect, '\\n'))\n",
    "    print(totalcorrect)\n",
    "    print(totalincorrect)\n",
    "    print('accuracy:', totalcorrect/(totalcorrect + totalincorrect)) #write to logfile\n",
    " \n",
    "def main():\n",
    "    os.chdir(\"/home/avanluenen/twec\")\n",
    "    print(\"os should be: /home/avanluenen/twec, is\", os.getcwd())\n",
    "    data = \"examples/training/compass.txt\"\n",
    "    sizes = [50, 100, 200, 300]\n",
    "    siters = [5, 10] #windowsize\n",
    "    diters = [5, 10, 15] #negative sampling\n",
    "\n",
    "    for size in sizes:\n",
    "        for siter in siters:\n",
    "            for diter in diters:\n",
    "                filename = str(size) + \"_\" + str(siter) + \"_\" + str(diter) + \".model\"\n",
    "                os.chdir(\"/home/avanluenen/twec\")\n",
    "                print(\"os should be: /home/avanluenen/twec, is\", os.getcwd())\n",
    "                train_compass(data, filename, size, siter, diter)\n",
    "                os.chdir(\"/home/avanluenen/dutchembeddings\")\n",
    "                print(\"os should be: /home/avanluenen/dutchembeddings, os is\", os.getcwd())\n",
    "                test_embeddings(filename)\n",
    "\n",
    "\n",
    "if __name__ == \"__main__\":\n",
    "    main()\n",
    "\n",
    "            \n",
    "\n"
   ]
  },
  {
   "cell_type": "code",
   "execution_count": null,
   "metadata": {},
   "outputs": [],
   "source": []
  },
  {
   "cell_type": "code",
   "execution_count": null,
   "metadata": {},
   "outputs": [],
   "source": [
    "\n",
    "os.chdir(\"/home/avanluenen/dutchembeddings\")\n",
    "print(os.getcwd())\n",
    "from relation import Relation\n",
    "\n",
    "# Load the predicates.\n",
    "rel = Relation(\"data/question-words.txt\")\n",
    "\n",
    "# Test the model\n",
    "results = rel.test_model(model)\n",
    "#output = [{section: section name, correct: [list of correct items], incorrect: [list of incorrect items]}, {section: ...}]\n",
    "#accuracy can be calculated\n",
    "totalcorrect = 0\n",
    "totalincorrect = 0\n",
    "for section in results:\n",
    "    correct = len(section['correct'])\n",
    "    totalcorrect += correct\n",
    "    incorrect = len(section['incorrect'])\n",
    "    totalincorrect += incorrect\n",
    "print(totalcorrect)\n",
    "print(totalincorrect)\n",
    "print('accuracy:', totalcorrect/(totalcorrect + totalincorrect))"
   ]
  }
 ],
 "metadata": {
  "kernelspec": {
   "display_name": "Python 3",
   "language": "python",
   "name": "python3"
  },
  "language_info": {
   "codemirror_mode": {
    "name": "ipython",
    "version": 3
   },
   "file_extension": ".py",
   "mimetype": "text/x-python",
   "name": "python",
   "nbconvert_exporter": "python",
   "pygments_lexer": "ipython3",
   "version": "3.8.5"
  }
 },
 "nbformat": 4,
 "nbformat_minor": 5
}
