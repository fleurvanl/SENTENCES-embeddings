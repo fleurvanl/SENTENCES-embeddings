{
 "cells": [
  {
   "cell_type": "code",
   "execution_count": 14,
   "id": "9557ba42",
   "metadata": {},
   "outputs": [
    {
     "name": "stdout",
     "output_type": "stream",
     "text": [
      "/home/avanluenen\n",
      "loaded model 1\n",
      "loaded model 2\n",
      "loaded model 3\n",
      "(12, 2)\n",
      "[[ -8.44536229  14.95826441]\n",
      " [ -8.89835266  14.91511353]\n",
      " [ 15.620475     5.83919441]\n",
      " [ 17.3083912    0.4702587 ]\n",
      " [ 16.53103558   0.44772331]\n",
      " [  0.30877412  -3.85986485]\n",
      " [ -1.00712167 -10.34576576]\n",
      " [ -6.16585852  -7.38130751]\n",
      " [ -7.73290482  -5.50980947]\n",
      " [ -3.36049606  -3.20615116]\n",
      " [ -6.30841759  -3.56594031]\n",
      " [ -7.8501623   -2.76171528]]\n",
      "trump_2010 -8.445362289979293 14.958264410803691\n",
      "trump_2014 -8.898352659827118 14.915113525020434\n",
      "trump_2018 15.620474998107426 5.839194407403576\n",
      "obama_2010 17.30839120216346 0.4702586994514315\n",
      "obama_2014 16.53103557672127 0.44772330590680726\n",
      "obama_2018 0.30877412364963275 -3.859864848740827\n",
      "bush_2010 -1.0071216675921089 -10.345765764680715\n",
      "bush_2014 -6.165858520563593 -7.381307513406356\n",
      "bush_2018 -7.732904820789089 -5.509809474064526\n",
      "clinton_2010 -3.3604960560727464 -3.2061511585214437\n",
      "clinton_2014 -6.308417585721936 -3.565940312211727\n",
      "clinton_2018 -7.8501623000959135 -2.7617152769603317\n"
     ]
    },
    {
     "data": {
      "image/png": "[encoded data removed]",
      "text/plain": [
       "<Figure size 432x288 with 1 Axes>"
      ]
     },
     "metadata": {
      "needs_background": "light"
     },
     "output_type": "display_data"
    }
   ],
   "source": [
    "import gensim\n",
    "from gensim.models.word2vec import Word2Vec\n",
    "from sklearn.decomposition import PCA\n",
    "from sklearn.preprocessing import StandardScaler\n",
    "scaler = StandardScaler()\n",
    "import matplotlib.pyplot as plt\n",
    "import pandas as pd\n",
    "from adjustText import adjust_text\n",
    "import os\n",
    "print(os.getcwd())\n",
    "\n",
    "model1 = Word2Vec.load(\"twec/model/2010_1.model\")\n",
    "print(\"loaded model 1\")\n",
    "model2 = Word2Vec.load(\"twec/model/2014_1.model\")\n",
    "print(\"loaded model 2\")\n",
    "model3 = Word2Vec.load(\"twec/model/2018_1.model\")\n",
    "print(\"loaded model 3\")\n",
    "\n",
    "models = [model1, model2, model3]\n",
    "years = {2010:model1, 2014:model2, 2018:model3}\n",
    "\n",
    "#my_words = ['borstkanker', 'longkanker', 'prostaatkanker', 'darmkanker', 'leukemie', \\\n",
    "#              'kanker']\n",
    "\n",
    "my_words = ['trump', 'obama', 'bush', 'clinton']\n",
    "\n",
    "#['cameron', 'may', 'johnson']\n",
    "\n",
    "my_vocab = {}\n",
    "for w in my_words:\n",
    "    for y in years.keys():\n",
    "        wordyear = w + '_' + str(y)\n",
    "        my_vocab[wordyear] = years[y].wv[w]\n",
    "    #my_vocab = {president_2010:emb, president_2014:emb, president_2018:emb}\n",
    "    \n",
    "    \n",
    "df = pd.DataFrame.from_dict(my_vocab, orient='index')\n",
    "    \n",
    "x = StandardScaler().fit_transform(df)\n",
    "\n",
    "pca = PCA(n_components=2)\n",
    "principalComponents = pca.fit_transform(x)\n",
    "print(principalComponents.shape)\n",
    "print(principalComponents)\n",
    "\n",
    "X = principalComponents[:,0]#first column\n",
    "Y = principalComponents[:,1]#second column\n",
    "\n",
    "plt.scatter(X, Y)\n",
    "texts = []\n",
    "for i, txt in enumerate(my_vocab.keys()):\n",
    "    print(txt, X[i], Y[i])\n",
    "    #plt.annotate(txt, (X[i], Y[i]))\n",
    "    texts.append(plt.text(X[i], Y[i], txt))\n",
    "\n",
    "adjust_text(texts, only_move={'points':'y', 'texts':'y'}, arrowprops=dict(arrowstyle=\"->\", color='gray', lw=0.5))\n",
    "\n",
    "plt.savefig(\"METHODtemporalwembexample\")\n",
    "plt.show()"
   ]
  },
  {
   "cell_type": "code",
   "execution_count": 11,
   "id": "14dd745b",
   "metadata": {
    "tags": []
   },
   "outputs": [
    {
     "name": "stdout",
     "output_type": "stream",
     "text": [
      "man 1 1\n",
      "woman 2 2\n",
      "king 2 3\n",
      "queen 3 4\n"
     ]
    },
    {
     "data": {
      "image/png": "[encoded data removed]",
      "text/plain": [
       "<Figure size 432x288 with 1 Axes>"
      ]
     },
     "metadata": {
      "needs_background": "light"
     },
     "output_type": "display_data"
    }
   ],
   "source": [
    "import matplotlib.pyplot as plt\n",
    "#import pandas as pd\n",
    "#from adjustText import adjust_text\n",
    "#import os\n",
    "#print(os.getcwd())\n",
    "\n",
    "words = ['man', 'woman', 'king', 'queen']\n",
    "X = [1, 2, 2, 3]\n",
    "Y = [1, 2, 3, 4]\n",
    "\n",
    "plt.scatter(X, Y)\n",
    "\n",
    "#texts = []\n",
    "for i, txt in enumerate(words):\n",
    "    print(txt, X[i], Y[i])\n",
    "    plt.annotate(txt, (X[i], Y[i]))\n",
    "    #texts.append(plt.text(X[i], Y[i], txt))\n",
    "\n",
    "#adjust_text(texts, only_move={'points':'y', 'texts':'y'}, arrowprops=dict(arrowstyle=\"->\", color='gray', lw=0.5))\n",
    "#man = #[1, 1]\n",
    "#woman = [2, 2]\n",
    "#inbetween1 = [2, 1]\n",
    "x1 = [1, 2, 2]\n",
    "y1 = [1, 1, 2]\n",
    "king = [2, 3]\n",
    "queen = [3, 4]\n",
    "inbetween2 = [3, 3]\n",
    "\n",
    "plt.plot(x1, y1, '--', color='orange')\n",
    "#plt.plot(inbetween1, woman, '--', color='orange')\n",
    "plt.plot(king, inbetween2, '--', color='blue')\n",
    "plt.plot(inbetween2, queen, '--', color='blue')\n",
    "\n",
    "\n",
    "plt.savefig(\"BACKGROUNDmanwomankingqueen\")\n",
    "plt.show()"
   ]
  },
  {
   "cell_type": "code",
   "execution_count": null,
   "id": "90e45592",
   "metadata": {},
   "outputs": [],
   "source": []
  }
 ],
 "metadata": {
  "kernelspec": {
   "display_name": "Python 3",
   "language": "python",
   "name": "python3"
  },
  "language_info": {
   "codemirror_mode": {
    "name": "ipython",
    "version": 3
   },
   "file_extension": ".py",
   "mimetype": "text/x-python",
   "name": "python",
   "nbconvert_exporter": "python",
   "pygments_lexer": "ipython3",
   "version": "3.6.9"
  }
 },
 "nbformat": 4,
 "nbformat_minor": 5
}
